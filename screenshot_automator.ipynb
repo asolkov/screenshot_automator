{
 "cells": [
  {
   "cell_type": "markdown",
   "metadata": {},
   "source": [
    "## Automake screenshot + keyboard key press within an app"
   ]
  },
  {
   "cell_type": "markdown",
   "metadata": {},
   "source": [
    "This notebook was created to make screenshot extract from a book using only python and original ebook reader\n",
    "The usage is trivial: \n",
    "1. Specify REGION of the screen to make screenshot (left, top, width, and height of the region to capture). You may use locate_position to find the correct pattern\n",
    "2. Open the 3rd party app\n",
    "3. Specify make_n_pages params with counter start, number of pages (iterations), and pass REGION\n",
    "4. Run the notebook and make sure the focus is on the 3rd party app\n"
   ]
  },
  {
   "cell_type": "markdown",
   "metadata": {},
   "source": [
    "Dependencies: ``` pip install pyautogui```"
   ]
  },
  {
   "cell_type": "code",
   "execution_count": 47,
   "metadata": {},
   "outputs": [],
   "source": [
    "import pyautogui\n",
    "import os\n",
    "import time"
   ]
  },
  {
   "cell_type": "code",
   "execution_count": 43,
   "metadata": {},
   "outputs": [],
   "source": [
    "REGION = (1161, 197, 630, 836)"
   ]
  },
  {
   "cell_type": "code",
   "execution_count": 63,
   "metadata": {},
   "outputs": [],
   "source": [
    "def make_screenshot(filepath, region):\n",
    "    \"\"\"Makes screenshot of screen region and saves resulting image to filepath\"\"\"\n",
    "    pyautogui\\\n",
    "    .screenshot(filepath, \n",
    "                region=region)"
   ]
  },
  {
   "cell_type": "code",
   "execution_count": 62,
   "metadata": {},
   "outputs": [],
   "source": [
    "def locate_position(test_file='test.png'):\n",
    "    \"\"\"Pass an existing test_file image to locate the region on the screen\"\"\"\n",
    "    for pos in pyautogui.locateAllOnScreen(test_file):\n",
    "        print(pos)"
   ]
  },
  {
   "cell_type": "code",
   "execution_count": 35,
   "metadata": {},
   "outputs": [],
   "source": [
    "def add_first_zeroes(counter, length=4):\n",
    "    \"\"\"Add zeros before counter so we have 0001 instead of 1\"\"\"\n",
    "    cnt_len = len(str(counter))\n",
    "    if cnt_len < length:\n",
    "        return (length-cnt_len)*'0' + str(counter)\n",
    "    else:\n",
    "        return str(counter)"
   ]
  },
  {
   "cell_type": "code",
   "execution_count": 64,
   "metadata": {},
   "outputs": [],
   "source": [
    "def make_filepath(counter='1', \n",
    "                  savepath='images', \n",
    "                  fileprefix='img_',  \n",
    "                  extension='.png'):\n",
    "    \"\"\"Creates nicely formated relative filepaths\"\"\"\n",
    "    path = os.path.join(*[savepath, \n",
    "                          fileprefix + str(counter) + extension])\n",
    "    return str(path)"
   ]
  },
  {
   "cell_type": "code",
   "execution_count": 60,
   "metadata": {},
   "outputs": [],
   "source": [
    "# example of usage:\n",
    "# make_screenshot(make_filepath('3'), region=REGION)"
   ]
  },
  {
   "cell_type": "code",
   "execution_count": 65,
   "metadata": {},
   "outputs": [],
   "source": [
    "def turn_page():\n",
    "    \"\"\"Press the keyboard button\"\"\"\n",
    "    pyautogui.press('right') "
   ]
  },
  {
   "cell_type": "code",
   "execution_count": 66,
   "metadata": {},
   "outputs": [],
   "source": [
    "def make_n_pages(counter_start, n, region):\n",
    "    \"\"\"Makes n iterations of making screenshot and turning the page\"\"\"\n",
    "    counter = counter_start\n",
    "    while (n > 0):\n",
    "        cnter = add_first_zeroes(counter)\n",
    "        path = make_filepath(cnter)\n",
    "        make_screenshot(path, region=region)\n",
    "        turn_page()\n",
    "        print(path)\n",
    "        counter +=1\n",
    "        n -=1"
   ]
  },
  {
   "cell_type": "code",
   "execution_count": 52,
   "metadata": {},
   "outputs": [
    {
     "name": "stdout",
     "output_type": "stream",
     "text": [
      "images\\img_0001.png\n",
      "images\\img_0002.png\n",
      "images\\img_0003.png\n"
     ]
    }
   ],
   "source": [
    "make_n_pages(1, 3, REGION)"
   ]
  },
  {
   "cell_type": "markdown",
   "metadata": {},
   "source": [
    "Examples: \n",
    "Make 20 screenshots name name the first file **images\\img_0001.png**"
   ]
  },
  {
   "cell_type": "code",
   "execution_count": null,
   "metadata": {},
   "outputs": [],
   "source": [
    "time.sleep(3)\n",
    "make_n_pages(1, 20, REGION)"
   ]
  }
 ],
 "metadata": {
  "kernelspec": {
   "display_name": "kindle_extract",
   "language": "python",
   "name": "kindle_extract"
  },
  "language_info": {
   "codemirror_mode": {
    "name": "ipython",
    "version": 3
   },
   "file_extension": ".py",
   "mimetype": "text/x-python",
   "name": "python",
   "nbconvert_exporter": "python",
   "pygments_lexer": "ipython3",
   "version": "3.7.4"
  }
 },
 "nbformat": 4,
 "nbformat_minor": 4
}
